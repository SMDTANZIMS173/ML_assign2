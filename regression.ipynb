{
 "cells": [
  {
   "cell_type": "markdown",
   "metadata": {},
   "source": [
    "# ML Assignment\n"
   ]
  },
  {
   "cell_type": "markdown",
   "metadata": {},
   "source": [
    "1. What is Simple Linear Regression?"
   ]
  },
  {
   "cell_type": "markdown",
   "metadata": {},
   "source": [
    "* Simple Linear Regression is a statistical method used to understand the relationship between two variables.\n",
    "\n",
    "Independent variable (X) – the input or feature.\n",
    "Dependent variable (Y) – the output or target we want to predict."
   ]
  },
  {
   "cell_type": "markdown",
   "metadata": {},
   "source": [
    "2. What are the key assumptions of Simple Linear Regression"
   ]
  },
  {
   "cell_type": "markdown",
   "metadata": {},
   "source": [
    "Simple Linear Regression works well only when certain assumptions hold true. These assumptions ensure that the model makes accurate and reliable predictions.\n",
    "\n",
    "🔹 1. Linearity \n",
    "\n",
    "There must be a linear relationship between the independent variable (X) and the dependent variable (Y).\n",
    "Example: If we plot house prices vs. square footage, the trend should form a straight-line pattern, not a curve.\n",
    "🔹 2. Independence \n",
    "\n",
    "Observations should be independent of each other (no patterns in residuals).\n",
    "Example: If data is time-dependent (like stock prices), you need to check for autocorrelation.\n",
    "🔹 3. Homoscedasticity \n",
    "\n",
    "The variance of residuals (errors) should remain constant across all values of X.\n",
    "How to check? Plot residuals vs. predicted values—if errors fan out or form patterns, there's an issue.\n",
    "🔹 4. Normality of Residuals \n",
    "\n",
    "The residuals (errors) should be normally distributed (bell curve).\n",
    "Why? Ensures valid hypothesis testing and confidence intervals.\n",
    "How to check? Use a histogram or Q-Q plot of residuals.\n",
    "🔹 5. No Multicollinearity (for Multiple Regression)\n",
    "\n",
    "(Not directly for SLR, but important if extending to multiple variables.)\n",
    "If predictors are highly correlated, it affects the model’s stability."
   ]
  },
  {
   "cell_type": "markdown",
   "metadata": {},
   "source": [
    "3. What does the coefficient m represent in the equation Y=mX+c"
   ]
  },
  {
   "cell_type": "markdown",
   "metadata": {},
   "source": [
    "The coefficient m in the equation Y = mX + c represents the slope of the line. It indicates how much Y changes for a one-unit increase in X—essentially, the rate of change or impact of X on Y."
   ]
  },
  {
   "cell_type": "markdown",
   "metadata": {},
   "source": [
    "4. What does the intercept c represent in the equation Y=mX+c"
   ]
  },
  {
   "cell_type": "markdown",
   "metadata": {},
   "source": [
    "The intercept c in the equation Y = mX + c represents the value of Y when X = 0. It shows where the regression line crosses the Y-axis, essentially the starting point of the prediction."
   ]
  },
  {
   "cell_type": "markdown",
   "metadata": {},
   "source": [
    "5. How do we calculate the slope m in Simple Linear Regression"
   ]
  },
  {
   "cell_type": "markdown",
   "metadata": {},
   "source": [
    "The slope m in Simple Linear Regression is calculated using the formula:\n",
    "m = Σ (X - mean(X)) * (Y - mean(Y)) / Σ (X - mean(X))²\n",
    "X = Individual Data Points\n",
    "Numerator: Measures how X and Y change together (covariance).\n",
    "Denominator: Measures how X varies (variance)."
   ]
  },
  {
   "cell_type": "markdown",
   "metadata": {},
   "source": [
    "6. What is the purpose of the least squares method in Simple Linear Regression"
   ]
  },
  {
   "cell_type": "markdown",
   "metadata": {},
   "source": [
    "The Least Squares Method is used to find the best-fitting regression line by minimizing the total error (difference between actual and predicted values)."
   ]
  },
  {
   "cell_type": "markdown",
   "metadata": {},
   "source": [
    "7. How is the coefficient of determination (R²) interpreted in Simple Linear Regression"
   ]
  },
  {
   "cell_type": "markdown",
   "metadata": {},
   "source": [
    "The coefficient of determination (R²) in Simple Linear Regression measures how well the independent variable (X) explains the variability of the dependent variable (Y). It is interpreted as follows:\n",
    "                         l - ssr/tss\n",
    "                    where, \n",
    "                    ssr = (Residual Sum of Squares) = Sum of squared differences between actual and predicted values.\n",
    "                    tss = (Total Sum of Squares) = Sum of squared differences between actual values and their mean.\n",
    "* It is the evaluation metric which specifies the model performance.\n",
    "* It ensures that independent variables must be increased then r2 also increases then there will saturation point at some point.\n",
    "\n"
   ]
  },
  {
   "cell_type": "markdown",
   "metadata": {},
   "source": [
    "8. What is Multiple Linear Regression"
   ]
  },
  {
   "cell_type": "markdown",
   "metadata": {},
   "source": [
    "Multiple Linear Regression is an extension of Simple Linear Regression where two or more independent variables (predictors) are used to predict a dependent variable.\n",
    "        y = b0 + b1x1 + b2x2 + b3x3 + .... + e\n",
    "where,\n",
    "y = dependent variable\n",
    "x1, x2,x3,... independent variable\n",
    "b0 - intercept\n",
    "b1,b2,b3 ... - = Coefficients (weights assigned to each predictor)\n",
    "e - Error term (unexplained variation)."
   ]
  },
  {
   "cell_type": "markdown",
   "metadata": {},
   "source": [
    "9. What is the main difference between Simple and Multiple Linear Regression"
   ]
  },
  {
   "cell_type": "markdown",
   "metadata": {},
   "source": [
    "Simple Linear Regression - It is used when you have only one independent variable.\n",
    "Multiple Linear Regression - It is used when multiple factors influence the dependent variable."
   ]
  },
  {
   "cell_type": "markdown",
   "metadata": {},
   "source": [
    "10. What are the key assumptions of Multiple Linear Regression"
   ]
  },
  {
   "cell_type": "markdown",
   "metadata": {},
   "source": [
    "Key Assumptions of Multiple Linear Regression:\n",
    "* Linearity – The relationship between independent variables and the dependent variable is linear.\n",
    "* No Multicollinearity – Independent variables should not be highly correlated with each other.\n",
    "* Homoscedasticity – The variance of residuals should be constant across all levels of independent variables.\n",
    "* No Autocorrelation – Residuals (errors) should not be correlated with each other.\n",
    "* Normality of Residuals – Residuals should be normally distributed."
   ]
  },
  {
   "cell_type": "markdown",
   "metadata": {},
   "source": [
    "11. What is heteroscedasticity, and how does it affect the results of a Multiple Linear Regression model"
   ]
  },
  {
   "cell_type": "markdown",
   "metadata": {},
   "source": [
    "Heteroscedasticity means the variance of residuals (errors) is not constant across all values of the independent variables.\n",
    "* Makes standard errors unreliable, leading to incorrect p-values and confidence intervals.\n",
    "* Can result in inefficient predictions and misleading interpretations of the model.\n",
    "Reason\n",
    "Heteroscedasticity happens when residuals (errors) increase as the value of independent variables increases (like a funnel shape in a plot).\n",
    "\n",
    "Applying a log transformation"
   ]
  },
  {
   "cell_type": "markdown",
   "metadata": {},
   "source": [
    "12. How can you improve a Multiple Linear Regression model with high multicollinearity"
   ]
  },
  {
   "cell_type": "markdown",
   "metadata": {},
   "source": [
    "* Remove one of the highly correlated variables – Keep only the most relevant one.\n",
    "* Use Principal Component Analysis (PCA) – Converts correlated variables into uncorrelated ones.\n",
    "* Apply Ridge or Lasso Regression – These techniques reduce the effect of multicollinearity by adding regularization.\n",
    "* Check Variance Inflation Factor (VIF) – Drop variables with VIF > 10 to reduce multicollinearity."
   ]
  },
  {
   "cell_type": "markdown",
   "metadata": {},
   "source": [
    "13. What are some common techniques for transforming categorical variables for use in regression models"
   ]
  },
  {
   "cell_type": "markdown",
   "metadata": {},
   "source": [
    "* One-Hot Encoding (OHE) – Converts categories into separate binary columns (0 or 1). Best for nominal (unordered) categories.\n",
    "* Label Encoding – Assigns a unique numerical value to each category. Used for ordinal (ordered) categories.\n",
    "* Target Encoding – Replaces categories with the mean of the target variable for each category. Works well for large datasets.\n",
    "* Binary Encoding – Converts categories into binary numbers and spreads them across multiple columns. Useful for many categories to reduce dimensions"
   ]
  },
  {
   "cell_type": "markdown",
   "metadata": {},
   "source": [
    "14. What is the role of interaction terms in Multiple Linear Regression"
   ]
  },
  {
   "cell_type": "markdown",
   "metadata": {},
   "source": [
    "Interaction terms capture the combined effect of two or more independent variables on the dependent variable, beyond their individual effects.\n",
    "\n",
    "Why Are They Important?\n",
    "* Some variables may not act independently but instead influence each other.\n",
    "* Helps detect relationships that simple linear terms might miss.\n",
    "* Improves the model’s ability to explain variability in the target variable."
   ]
  },
  {
   "cell_type": "markdown",
   "metadata": {},
   "source": [
    "15. How can the interpretation of intercept differ between Simple and Multiple Linear Regression"
   ]
  },
  {
   "cell_type": "markdown",
   "metadata": {},
   "source": [
    "SLR: Intercept represents Y when X = 0 (usually meaningful).\n",
    "              y = b0 + b1x + e\n",
    "        ex : If predicting salary based on experience\n",
    "        b0 = 30,000 means that with 0 years of experience, the predicted salary is ₹30,000\n",
    "MLR: Intercept represents Y when all X’s are 0, which may or may not make sense in real-world scenarios.\n",
    "Example: If predicting house price based on size and location\n",
    "b0 = 5,00,000 means the predicted price when size = 0 and location is at the reference level.\n",
    "Sometimes, this interpretation doesn’t make sense (e.g., house size = 0), so the intercept may not always be meaningful."
   ]
  },
  {
   "cell_type": "markdown",
   "metadata": {},
   "source": [
    "15. What is the significance of the slope in regression analysis, and how does it affect predictions"
   ]
  },
  {
   "cell_type": "markdown",
   "metadata": {},
   "source": [
    "The slope in regression represents the change in the dependent variable (Y)\n",
    "for a one-unit increase in the independent variable (X), keeping other factors constant.\n",
    "\n",
    "In Simple Linear Regression:\n",
    "Y = β0 + β1*X\n",
    " - β1 (the slope) tells us how much Y changes when X increases by 1 unit.\n",
    "\n",
    "Example:\n",
    "If β1 = 2 in a salary prediction model:\n",
    "  - For every additional year of experience, salary increases by ₹2,000.\n",
    "\n",
    "In Multiple Linear Regression:\n",
    "Y = β0 + β1*X1 + β2*X2 + ... + βn*Xn\n",
    "- Each β represents the slope for its respective variable.\n",
    "- β1 means how Y changes with X1 when other X’s are held constant.\n",
    "\n",
    " Impact on Predictions:\n",
    " - A higher positive slope → Strong positive relationship (increase in X leads to increase in Y).\n",
    " - A negative slope → Inverse relationship (increase in X leads to decrease in Y).\n",
    " - If slope ≈ 0 → X has little to no effect on Y.\n",
    "\n",
    "Significance of Slope:\n",
    "- If statistically significant (p-value < 0.05), X is a meaningful predictor.\n",
    "- If not, X might not have a strong impact on Y. -->\n"
   ]
  },
  {
   "cell_type": "markdown",
   "metadata": {},
   "source": [
    "17. How does the intercept in a regression model provide context for the relationship between variables"
   ]
  },
  {
   "cell_type": "markdown",
   "metadata": {},
   "source": [
    "The intercept (β0) in a regression model represents the predicted value of Y\n",
    "when all independent variables (X’s) are 0.\n",
    "\n",
    "In Simple Linear Regression:\n",
    "Y = β0 + β1*X\n",
    "- β0 is the value of Y when X = 0.\n",
    "- Example: If we predict salary based on experience:\n",
    "  - Y = 30,000 + 2,000 * (Experience)\n",
    "  - β0 = 30,000 → Predicted salary when Experience = 0.\n",
    "\n",
    "In Multiple Linear Regression:\n",
    " Y = β0 + β1*X1 + β2*X2 + ... + βn*Xn\n",
    "- β0 represents Y when all X’s are 0.\n",
    "- Example: If predicting house price based on size and location:\n",
    "  - Y = 5,00,000 + 10,000*(Size in sqft) + 50,000*(Location factor)\n",
    "    - β0 = 5,00,000 → Price when size is 0 and location is at the reference level.\n",
    "\n",
    "Context of Intercept:\n",
    "- If X=0 is a valid scenario, the intercept is meaningful (e.g., salary at 0 experience).\n",
    "- If X=0 is unrealistic (e.g., house size = 0), the intercept may lack real-world meaning.\n",
    "- Often used as a baseline reference for predictions. \n"
   ]
  },
  {
   "cell_type": "markdown",
   "metadata": {},
   "source": [
    "18. What are the limitations of using R² as a sole measure of model performance"
   ]
  },
  {
   "cell_type": "markdown",
   "metadata": {},
   "source": [
    "R² measures how well the independent variables explain the variance in the dependent variable.\n",
    "However, using R² alone has limitations:\n",
    "\n",
    "1.Doesn’t Tell If the Model Is Good**  \n",
    "   - A high R² doesn’t mean the model is correct; it may still have biased coefficients or missing variables.\n",
    "\n",
    "2. Ignores Overfitting**  \n",
    "   - Adding more variables always increases R², even if they don’t truly improve predictions.\n",
    "\n",
    "3. Doesn’t Show Causation**  \n",
    "   - A high R² only shows correlation, not cause-and-effect relationships.\n",
    "\n",
    "4. Not Useful for Comparing Different Models**  \n",
    "  - Different datasets and models have different R² scales, making comparisons tricky.\n",
    "\n",
    "5. Sensitive to Outliers**  \n",
    "   - Extreme values can inflate or reduce R², misleading model evaluation.\n",
    "\n",
    "Alternative Measures:\n",
    "- Adjusted R²** → Accounts for the number of predictors.\n",
    " - RMSE (Root Mean Squared Error)** → Measures actual prediction error.\n",
    " - MAE (Mean Absolute Error)** → Shows average absolute error in predictions. \n"
   ]
  },
  {
   "cell_type": "markdown",
   "metadata": {},
   "source": [
    "19. How would you interpret a large standard error for a regression coefficient\n"
   ]
  },
  {
   "cell_type": "markdown",
   "metadata": {},
   "source": [
    "A large standard error means the coefficient is uncertain and not reliable. It indicates that small changes in the data could lead to large changes in the coefficient’s value, making it less trustworthy."
   ]
  },
  {
   "cell_type": "markdown",
   "metadata": {},
   "source": [
    "20. How can heteroscedasticity be identified in residual plots, and why is it important to address it"
   ]
  },
  {
   "cell_type": "markdown",
   "metadata": {},
   "source": [
    "Heteroscedasticity can be identified in residual plots by looking for a pattern in how the residuals (errors) are spread.\n",
    "\n",
    "How to Identify:\n",
    "* Residual vs. Fitted Plot → If residuals fan out (wider spread as fitted values increase) or form a pattern, it suggests heteroscedasticity.\n",
    "* Scatter Plot of Residuals → Instead of a random spread, residuals may show increasing or decreasing variance.\n",
    "Why It’s Important to Address:\n",
    "* Violates Regression Assumptions → Standard errors become unreliable.\n",
    "* Leads to Incorrect Inference → P-values and confidence intervals may be misleading.\n",
    "* Affects Model Predictions → Unequal variance means the model may perform poorly for some values."
   ]
  },
  {
   "cell_type": "markdown",
   "metadata": {},
   "source": [
    "21. What does it mean if a Multiple Linear Regression model has a high R² but low adjusted R²"
   ]
  },
  {
   "cell_type": "markdown",
   "metadata": {},
   "source": [
    "If a Multiple Linear Regression model has high R² but low Adjusted R², it means that some independent variables are not useful and are just increasing the number of predictors without actually improving the model.\n",
    "* R² always increases when new variables are added, even if they are irrelevant.\n",
    "* Adjusted R² penalizes unnecessary variables, so it decreases if they don’t contribute much."
   ]
  },
  {
   "cell_type": "markdown",
   "metadata": {},
   "source": [
    "22. Why is it important to scale variables in Multiple Linear Regression"
   ]
  },
  {
   "cell_type": "markdown",
   "metadata": {},
   "source": [
    "Scaling variables in Multiple Linear Regression is important because it ensures that all features contribute equally to the model and prevents numerical issues.\n",
    "* Avoids Bias in Coefficients → Large-scale variables (e.g., income in lakhs) may dominate smaller-scale ones (e.g., age in years).\n",
    "* Improves Gradient Descent Convergence → Helps optimization algorithms (like in some regression variants) work faster and more efficiently.\n",
    "* Reduces Multicollinearity Effects → Standardizing can help in models where highly correlated predictors cause instability."
   ]
  },
  {
   "cell_type": "markdown",
   "metadata": {},
   "source": [
    "23. What is polynomial regression"
   ]
  },
  {
   "cell_type": "markdown",
   "metadata": {},
   "source": [
    "Polynomial Regression is a type of regression where the relationship between the independent variable(s) and the dependent variable is modeled as a polynomial function instead of a straight line.\n",
    "It predicts non linear relationships between the variables.\n",
    "Unlike Linear Regression, which fits a straight line, Polynomial Regression fits a curved line by adding higher-degree terms .\n",
    "It helps capture non-linear relationships between variables."
   ]
  },
  {
   "cell_type": "markdown",
   "metadata": {},
   "source": [
    "24. How does polynomial regression differ from linear regression\n",
    "25. When is polynomial regression used\n",
    "26. What is the general equation for polynomial regression"
   ]
  },
  {
   "cell_type": "markdown",
   "metadata": {},
   "source": [
    "Use Linear Regression when data follows a straight-line trend.\n",
    "Use Polynomial Regression when data shows a curved pattern but still follows a general trend.\n",
    "Polynomial Regression captures non-linear relationships while still being a type of linear regression in terms of coefficients."
   ]
  },
  {
   "cell_type": "markdown",
   "metadata": {},
   "source": [
    "27. Can polynomial regression be applied to multiple variables"
   ]
  },
  {
   "cell_type": "markdown",
   "metadata": {},
   "source": [
    "Yes! Polynomial Regression can be extended to multiple variables (also called Multivariable Polynomial Regression). Instead of just adding powers of a single variable, you apply polynomial terms to multiple independent variables\n",
    "\n",
    "y = b0 + b1*x1 + b2*x2 + b3*x1^2 + b4*x2^2 + b5*x1*x2 + b6*x1^3 + b7*x2^3 + ...\n"
   ]
  },
  {
   "cell_type": "markdown",
   "metadata": {},
   "source": [
    "28. What are the limitations of polynomial regression"
   ]
  },
  {
   "cell_type": "markdown",
   "metadata": {},
   "source": [
    "While useful for capturing non-linearity, polynomial regression must be used carefully to avoid overfitting and maintain interpretability. \n",
    "1. Overfitting \n",
    "\n",
    "High-degree polynomials can fit noise instead of actual trends, making the model unreliable.\n",
    "2. Extrapolation Issues \n",
    "\n",
    "Polynomial models behave unpredictably outside the given data range.\n",
    "3. Computational Complexity \n",
    "\n",
    "Higher-degree polynomials increase calculations, making training slower.\n",
    "4. Multicollinearity \n",
    "\n",
    "Polynomial terms can be highly correlated, leading to instability in coefficients.\n",
    "5. Less Interpretability \n",
    "\n",
    "Unlike simple linear regression, polynomial regression is harder to explain and interpret."
   ]
  },
  {
   "cell_type": "markdown",
   "metadata": {},
   "source": [
    "29. What methods can be used to evaluate model fit when selecting the degree of a polynomial"
   ]
  },
  {
   "cell_type": "markdown",
   "metadata": {},
   "source": [
    "we use a mix of R²,adjusted R2, MSE, cross-validation, and residual analysis to find the optimal polynomial degree without overfitting"
   ]
  },
  {
   "cell_type": "markdown",
   "metadata": {},
   "source": [
    "30. Why is visualization important in polynomial regression"
   ]
  },
  {
   "cell_type": "markdown",
   "metadata": {},
   "source": [
    "Visualization helps in selecting the right polynomial degree, detecting errors, and improving interpretability.\n",
    "* Helps Detect Overfitting & Underfitting \n",
    "\n",
    "Plotting the polynomial curve against data points shows if the model is too simple (underfitting) or too complex (overfitting).\n",
    "* Identifies the Right Polynomial Degree \n",
    "\n",
    "Visualizing different polynomial degrees helps select the best fit without unnecessary complexity.\n",
    "* Residual Analysis \n",
    "\n",
    "Residual plots reveal patterns, indicating whether the model is capturing trends correctly or if further adjustments are needed.\n",
    "* Enhances Interpretability \n",
    "\n",
    "Seeing the curve makes it easier to explain and understand how the model predicts outcomes.\n",
    "* Comparison of Models \n",
    "\n",
    "Overlaying multiple regression models (linear vs. polynomial) helps determine if polynomial regression is actually needed."
   ]
  },
  {
   "cell_type": "markdown",
   "metadata": {},
   "source": [
    "31. How is polynomial regression implemented in Python"
   ]
  },
  {
   "cell_type": "code",
   "execution_count": 1,
   "metadata": {},
   "outputs": [
    {
     "data": {
      "image/png": "[encoded data removed]",
      "text/plain": [
       "<Figure size 640x480 with 1 Axes>"
      ]
     },
     "metadata": {},
     "output_type": "display_data"
    }
   ],
   "source": [
    "import numpy as np\n",
    "import matplotlib.pyplot as plt\n",
    "from sklearn.preprocessing import PolynomialFeatures\n",
    "from sklearn.linear_model import LinearRegression\n",
    "\n",
    "# Sample Data\n",
    "X = np.array([1, 2, 3, 4, 5, 6]).reshape(-1, 1)  # Independent variable\n",
    "y = np.array([2, 5, 10, 17, 26, 37])  # Dependent variable (quadratic relationship)\n",
    "\n",
    "# Transforming X for Polynomial Regression (Degree = 2)\n",
    "poly = PolynomialFeatures(degree=2)  # Change degree as needed\n",
    "X_poly = poly.fit_transform(X)  # Expands features (adds x² terms)\n",
    "\n",
    "# Train Polynomial Regression Model\n",
    "model = LinearRegression()\n",
    "model.fit(X_poly, y)\n",
    "\n",
    "# Predictions\n",
    "y_pred = model.predict(X_poly)\n",
    "\n",
    "# Visualization\n",
    "plt.scatter(X, y, color='blue', label=\"Actual Data\")\n",
    "plt.plot(X, y_pred, color='red', label=\"Polynomial Fit\")\n",
    "plt.xlabel(\"X\")\n",
    "plt.ylabel(\"y\")\n",
    "plt.legend()\n",
    "plt.title(\"Polynomial Regression Example\")\n",
    "plt.show()\n"
   ]
  },
  {
   "cell_type": "markdown",
   "metadata": {},
   "source": []
  },
  {
   "cell_type": "code",
   "execution_count": null,
   "metadata": {},
   "outputs": [],
   "source": []
  }
 ],
 "metadata": {
  "kernelspec": {
   "display_name": "base",
   "language": "python",
   "name": "python3"
  },
  "language_info": {
   "codemirror_mode": {
    "name": "ipython",
    "version": 3
   },
   "file_extension": ".py",
   "mimetype": "text/x-python",
   "name": "python",
   "nbconvert_exporter": "python",
   "pygments_lexer": "ipython3",
   "version": "3.12.7"
  }
 },
 "nbformat": 4,
 "nbformat_minor": 2
}
